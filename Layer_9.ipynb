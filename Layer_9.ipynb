{
  "cells": [
    {
      "cell_type": "code",
      "execution_count": 2,
      "metadata": {
        "id": "HOoRXASjiPyK"
      },
      "outputs": [],
      "source": [
        "import pandas as pd\n",
        "import numpy as np\n",
        "\n",
        "#Constants\n",
        "L1 = 'label_1'\n",
        "L2 = 'label_2'\n",
        "L3 = 'label_3'\n",
        "L4 = 'label_4'\n",
        "LABELS = [L1, L2, L3, L4]\n",
        "AGE_LABEL = L2\n",
        "FEATURES =  [f'feature_{i}' for i in range(1,769)]"
      ]
    },
    {
      "cell_type": "code",
      "execution_count": 3,
      "metadata": {
        "id": "EXbDNZi9kDIz"
      },
      "outputs": [],
      "source": [
        "train_df = pd.read_csv(\"train_9.csv\")\n",
        "valid_df = pd.read_csv(\"valid_9.csv\")\n",
        "test_df = pd.read_csv(\"test_9.csv\")"
      ]
    },
    {
      "cell_type": "code",
      "execution_count": 4,
      "metadata": {
        "id": "TfpcOYRslzdF"
      },
      "outputs": [],
      "source": [
        "from pandas.core.arrays.period import validate_dtype_freq\n",
        "# Scaling the data\n",
        "from sklearn.preprocessing import RobustScaler # RobustScaler\n",
        "\n",
        "x_train = {}\n",
        "x_valid = {}\n",
        "x_test = {}\n",
        "y_train = {}\n",
        "y_valid = {}\n",
        "\n",
        "for target_label in LABELS:\n",
        "  tr_df = train_df[train_df['label_2'].notna()] if target_label == 'label_2' else train_df # remove NA values in label 2\n",
        "  vl_df = valid_df[valid_df['label_2'].notna()] if target_label == 'label_2' else valid_df\n",
        "  t_df = test_df\n",
        "  scaler = RobustScaler()\n",
        "  x_train[target_label] = pd.DataFrame(scaler.fit_transform(tr_df.drop(LABELS, axis=1)), columns = FEATURES)\n",
        "  x_test[target_label] = pd.DataFrame(scaler.fit_transform(t_df.drop(\"ID\", axis=1)), columns = FEATURES)\n",
        "  y_train[target_label] = tr_df[target_label]\n",
        "  x_valid[target_label] = pd.DataFrame(scaler.transform(vl_df.drop(LABELS, axis=1)), columns = FEATURES)\n",
        "  y_valid[target_label] = vl_df[target_label]"
      ]
    },
    {
      "cell_type": "code",
      "execution_count": 5,
      "metadata": {},
      "outputs": [
        {
          "name": "stdout",
          "output_type": "stream",
          "text": [
            "{'label_1':      feature_1  feature_2  feature_3  feature_4  feature_5  feature_6  \\\n",
            "0     0.465731   1.014872  -0.360705   0.204573   0.441294   0.176590   \n",
            "1     0.347988   1.152174  -0.694119   0.106543   0.601438   0.025268   \n",
            "2    -0.851793   0.082824  -1.150472   0.732961  -0.075655  -0.030616   \n",
            "3     0.157516  -0.238740  -0.193648   0.284084   0.368908  -1.341268   \n",
            "4    -1.001883  -0.231752  -0.668922   0.255354   0.362047   1.094476   \n",
            "..         ...        ...        ...        ...        ...        ...   \n",
            "739  -0.436024   0.938412   0.784822   0.437669  -0.605967   0.320408   \n",
            "740  -1.045213  -0.650795   0.597343  -0.259471   1.003291   0.432694   \n",
            "741  -0.363975  -0.771116  -0.158626  -0.540375   0.629514   0.879441   \n",
            "742  -0.073609  -0.357714   0.411233  -0.580633   0.208073   0.172877   \n",
            "743   0.173445   0.923834   0.320277  -0.437994   0.479609   0.701310   \n",
            "\n",
            "     feature_7  feature_8  feature_9  feature_10  ...  feature_759  \\\n",
            "0    -1.003111  -0.444207  -0.368492    0.653935  ...     1.171044   \n",
            "1    -0.395286   1.424725  -0.876387    0.074008  ...    -0.428843   \n",
            "2     0.451247   0.628757  -0.412304    0.617855  ...     1.074528   \n",
            "3    -0.373426   0.830198  -0.464532   -0.244584  ...    -0.390225   \n",
            "4    -0.623955   0.903429   0.481496   -0.383501  ...     0.691299   \n",
            "..         ...        ...        ...         ...  ...          ...   \n",
            "739  -2.706182   0.327795  -0.381470   -1.447657  ...    -2.311321   \n",
            "740  -0.640200   0.342774   0.285282   -0.466329  ...     0.038642   \n",
            "741  -1.280882  -0.793710   0.091838   -1.012591  ...     0.728779   \n",
            "742  -0.162408  -0.516350   1.341631   -1.429367  ...    -0.219773   \n",
            "743  -1.326845   0.386684  -0.975481    0.491404  ...     0.728047   \n",
            "\n",
            "     feature_760  feature_761  feature_762  feature_763  feature_764  \\\n",
            "0       2.224498     0.308187    -0.776913    -0.317304     1.488452   \n",
            "1      -0.587482    -0.477654    -0.326404    -0.432849     0.494719   \n",
            "2      -0.439232     0.516659    -1.932463     0.092176    -0.437025   \n",
            "3      -0.935304    -0.946488    -0.109141    -0.553520     0.334508   \n",
            "4      -0.551186     0.016226    -0.829774     1.012451    -0.104102   \n",
            "..           ...          ...          ...          ...          ...   \n",
            "739    -0.789465     2.326026     0.018491     3.876098    -1.183106   \n",
            "740    -0.546286    -0.164667     0.298511     0.672424     0.735691   \n",
            "741    -0.568987     0.302701    -0.091711     0.765759    -0.702088   \n",
            "742    -0.391454    -0.645845    -0.216420     0.853469    -0.454478   \n",
            "743    -0.112089     0.415057     0.698798    -0.743043     0.287060   \n",
            "\n",
            "     feature_765  feature_766  feature_767  feature_768  \n",
            "0      -0.279182     1.341309     1.254953     0.499608  \n",
            "1       0.327047    -0.348756     0.064552    -0.316880  \n",
            "2      -0.827626    -0.896938    -0.785516    -0.517605  \n",
            "3       0.495868    -0.139105    -1.067626    -0.462828  \n",
            "4       0.214677    -0.839655    -0.096272    -0.465349  \n",
            "..           ...          ...          ...          ...  \n",
            "739     0.198223    -1.539089    -2.250838     1.507159  \n",
            "740    -0.506142    -0.563696    -0.605379     0.329171  \n",
            "741    -0.255976    -1.048136     0.143833     0.517914  \n",
            "742    -0.309687    -0.432582    -0.840231     0.695195  \n",
            "743    -0.909633    -0.310109    -0.307283     0.354012  \n",
            "\n",
            "[744 rows x 768 columns], 'label_2':      feature_1  feature_2  feature_3  feature_4  feature_5  feature_6  \\\n",
            "0     0.465731   1.014872  -0.360705   0.204573   0.441294   0.176590   \n",
            "1     0.347988   1.152174  -0.694119   0.106543   0.601438   0.025268   \n",
            "2    -0.851793   0.082824  -1.150472   0.732961  -0.075655  -0.030616   \n",
            "3     0.157516  -0.238740  -0.193648   0.284084   0.368908  -1.341268   \n",
            "4    -1.001883  -0.231752  -0.668922   0.255354   0.362047   1.094476   \n",
            "..         ...        ...        ...        ...        ...        ...   \n",
            "739  -0.436024   0.938412   0.784822   0.437669  -0.605967   0.320408   \n",
            "740  -1.045213  -0.650795   0.597343  -0.259471   1.003291   0.432694   \n",
            "741  -0.363975  -0.771116  -0.158626  -0.540375   0.629514   0.879441   \n",
            "742  -0.073609  -0.357714   0.411233  -0.580633   0.208073   0.172877   \n",
            "743   0.173445   0.923834   0.320277  -0.437994   0.479609   0.701310   \n",
            "\n",
            "     feature_7  feature_8  feature_9  feature_10  ...  feature_759  \\\n",
            "0    -1.003111  -0.444207  -0.368492    0.653935  ...     1.171044   \n",
            "1    -0.395286   1.424725  -0.876387    0.074008  ...    -0.428843   \n",
            "2     0.451247   0.628757  -0.412304    0.617855  ...     1.074528   \n",
            "3    -0.373426   0.830198  -0.464532   -0.244584  ...    -0.390225   \n",
            "4    -0.623955   0.903429   0.481496   -0.383501  ...     0.691299   \n",
            "..         ...        ...        ...         ...  ...          ...   \n",
            "739  -2.706182   0.327795  -0.381470   -1.447657  ...    -2.311321   \n",
            "740  -0.640200   0.342774   0.285282   -0.466329  ...     0.038642   \n",
            "741  -1.280882  -0.793710   0.091838   -1.012591  ...     0.728779   \n",
            "742  -0.162408  -0.516350   1.341631   -1.429367  ...    -0.219773   \n",
            "743  -1.326845   0.386684  -0.975481    0.491404  ...     0.728047   \n",
            "\n",
            "     feature_760  feature_761  feature_762  feature_763  feature_764  \\\n",
            "0       2.224498     0.308187    -0.776913    -0.317304     1.488452   \n",
            "1      -0.587482    -0.477654    -0.326404    -0.432849     0.494719   \n",
            "2      -0.439232     0.516659    -1.932463     0.092176    -0.437025   \n",
            "3      -0.935304    -0.946488    -0.109141    -0.553520     0.334508   \n",
            "4      -0.551186     0.016226    -0.829774     1.012451    -0.104102   \n",
            "..           ...          ...          ...          ...          ...   \n",
            "739    -0.789465     2.326026     0.018491     3.876098    -1.183106   \n",
            "740    -0.546286    -0.164667     0.298511     0.672424     0.735691   \n",
            "741    -0.568987     0.302701    -0.091711     0.765759    -0.702088   \n",
            "742    -0.391454    -0.645845    -0.216420     0.853469    -0.454478   \n",
            "743    -0.112089     0.415057     0.698798    -0.743043     0.287060   \n",
            "\n",
            "     feature_765  feature_766  feature_767  feature_768  \n",
            "0      -0.279182     1.341309     1.254953     0.499608  \n",
            "1       0.327047    -0.348756     0.064552    -0.316880  \n",
            "2      -0.827626    -0.896938    -0.785516    -0.517605  \n",
            "3       0.495868    -0.139105    -1.067626    -0.462828  \n",
            "4       0.214677    -0.839655    -0.096272    -0.465349  \n",
            "..           ...          ...          ...          ...  \n",
            "739     0.198223    -1.539089    -2.250838     1.507159  \n",
            "740    -0.506142    -0.563696    -0.605379     0.329171  \n",
            "741    -0.255976    -1.048136     0.143833     0.517914  \n",
            "742    -0.309687    -0.432582    -0.840231     0.695195  \n",
            "743    -0.909633    -0.310109    -0.307283     0.354012  \n",
            "\n",
            "[744 rows x 768 columns], 'label_3':      feature_1  feature_2  feature_3  feature_4  feature_5  feature_6  \\\n",
            "0     0.465731   1.014872  -0.360705   0.204573   0.441294   0.176590   \n",
            "1     0.347988   1.152174  -0.694119   0.106543   0.601438   0.025268   \n",
            "2    -0.851793   0.082824  -1.150472   0.732961  -0.075655  -0.030616   \n",
            "3     0.157516  -0.238740  -0.193648   0.284084   0.368908  -1.341268   \n",
            "4    -1.001883  -0.231752  -0.668922   0.255354   0.362047   1.094476   \n",
            "..         ...        ...        ...        ...        ...        ...   \n",
            "739  -0.436024   0.938412   0.784822   0.437669  -0.605967   0.320408   \n",
            "740  -1.045213  -0.650795   0.597343  -0.259471   1.003291   0.432694   \n",
            "741  -0.363975  -0.771116  -0.158626  -0.540375   0.629514   0.879441   \n",
            "742  -0.073609  -0.357714   0.411233  -0.580633   0.208073   0.172877   \n",
            "743   0.173445   0.923834   0.320277  -0.437994   0.479609   0.701310   \n",
            "\n",
            "     feature_7  feature_8  feature_9  feature_10  ...  feature_759  \\\n",
            "0    -1.003111  -0.444207  -0.368492    0.653935  ...     1.171044   \n",
            "1    -0.395286   1.424725  -0.876387    0.074008  ...    -0.428843   \n",
            "2     0.451247   0.628757  -0.412304    0.617855  ...     1.074528   \n",
            "3    -0.373426   0.830198  -0.464532   -0.244584  ...    -0.390225   \n",
            "4    -0.623955   0.903429   0.481496   -0.383501  ...     0.691299   \n",
            "..         ...        ...        ...         ...  ...          ...   \n",
            "739  -2.706182   0.327795  -0.381470   -1.447657  ...    -2.311321   \n",
            "740  -0.640200   0.342774   0.285282   -0.466329  ...     0.038642   \n",
            "741  -1.280882  -0.793710   0.091838   -1.012591  ...     0.728779   \n",
            "742  -0.162408  -0.516350   1.341631   -1.429367  ...    -0.219773   \n",
            "743  -1.326845   0.386684  -0.975481    0.491404  ...     0.728047   \n",
            "\n",
            "     feature_760  feature_761  feature_762  feature_763  feature_764  \\\n",
            "0       2.224498     0.308187    -0.776913    -0.317304     1.488452   \n",
            "1      -0.587482    -0.477654    -0.326404    -0.432849     0.494719   \n",
            "2      -0.439232     0.516659    -1.932463     0.092176    -0.437025   \n",
            "3      -0.935304    -0.946488    -0.109141    -0.553520     0.334508   \n",
            "4      -0.551186     0.016226    -0.829774     1.012451    -0.104102   \n",
            "..           ...          ...          ...          ...          ...   \n",
            "739    -0.789465     2.326026     0.018491     3.876098    -1.183106   \n",
            "740    -0.546286    -0.164667     0.298511     0.672424     0.735691   \n",
            "741    -0.568987     0.302701    -0.091711     0.765759    -0.702088   \n",
            "742    -0.391454    -0.645845    -0.216420     0.853469    -0.454478   \n",
            "743    -0.112089     0.415057     0.698798    -0.743043     0.287060   \n",
            "\n",
            "     feature_765  feature_766  feature_767  feature_768  \n",
            "0      -0.279182     1.341309     1.254953     0.499608  \n",
            "1       0.327047    -0.348756     0.064552    -0.316880  \n",
            "2      -0.827626    -0.896938    -0.785516    -0.517605  \n",
            "3       0.495868    -0.139105    -1.067626    -0.462828  \n",
            "4       0.214677    -0.839655    -0.096272    -0.465349  \n",
            "..           ...          ...          ...          ...  \n",
            "739     0.198223    -1.539089    -2.250838     1.507159  \n",
            "740    -0.506142    -0.563696    -0.605379     0.329171  \n",
            "741    -0.255976    -1.048136     0.143833     0.517914  \n",
            "742    -0.309687    -0.432582    -0.840231     0.695195  \n",
            "743    -0.909633    -0.310109    -0.307283     0.354012  \n",
            "\n",
            "[744 rows x 768 columns], 'label_4':      feature_1  feature_2  feature_3  feature_4  feature_5  feature_6  \\\n",
            "0     0.465731   1.014872  -0.360705   0.204573   0.441294   0.176590   \n",
            "1     0.347988   1.152174  -0.694119   0.106543   0.601438   0.025268   \n",
            "2    -0.851793   0.082824  -1.150472   0.732961  -0.075655  -0.030616   \n",
            "3     0.157516  -0.238740  -0.193648   0.284084   0.368908  -1.341268   \n",
            "4    -1.001883  -0.231752  -0.668922   0.255354   0.362047   1.094476   \n",
            "..         ...        ...        ...        ...        ...        ...   \n",
            "739  -0.436024   0.938412   0.784822   0.437669  -0.605967   0.320408   \n",
            "740  -1.045213  -0.650795   0.597343  -0.259471   1.003291   0.432694   \n",
            "741  -0.363975  -0.771116  -0.158626  -0.540375   0.629514   0.879441   \n",
            "742  -0.073609  -0.357714   0.411233  -0.580633   0.208073   0.172877   \n",
            "743   0.173445   0.923834   0.320277  -0.437994   0.479609   0.701310   \n",
            "\n",
            "     feature_7  feature_8  feature_9  feature_10  ...  feature_759  \\\n",
            "0    -1.003111  -0.444207  -0.368492    0.653935  ...     1.171044   \n",
            "1    -0.395286   1.424725  -0.876387    0.074008  ...    -0.428843   \n",
            "2     0.451247   0.628757  -0.412304    0.617855  ...     1.074528   \n",
            "3    -0.373426   0.830198  -0.464532   -0.244584  ...    -0.390225   \n",
            "4    -0.623955   0.903429   0.481496   -0.383501  ...     0.691299   \n",
            "..         ...        ...        ...         ...  ...          ...   \n",
            "739  -2.706182   0.327795  -0.381470   -1.447657  ...    -2.311321   \n",
            "740  -0.640200   0.342774   0.285282   -0.466329  ...     0.038642   \n",
            "741  -1.280882  -0.793710   0.091838   -1.012591  ...     0.728779   \n",
            "742  -0.162408  -0.516350   1.341631   -1.429367  ...    -0.219773   \n",
            "743  -1.326845   0.386684  -0.975481    0.491404  ...     0.728047   \n",
            "\n",
            "     feature_760  feature_761  feature_762  feature_763  feature_764  \\\n",
            "0       2.224498     0.308187    -0.776913    -0.317304     1.488452   \n",
            "1      -0.587482    -0.477654    -0.326404    -0.432849     0.494719   \n",
            "2      -0.439232     0.516659    -1.932463     0.092176    -0.437025   \n",
            "3      -0.935304    -0.946488    -0.109141    -0.553520     0.334508   \n",
            "4      -0.551186     0.016226    -0.829774     1.012451    -0.104102   \n",
            "..           ...          ...          ...          ...          ...   \n",
            "739    -0.789465     2.326026     0.018491     3.876098    -1.183106   \n",
            "740    -0.546286    -0.164667     0.298511     0.672424     0.735691   \n",
            "741    -0.568987     0.302701    -0.091711     0.765759    -0.702088   \n",
            "742    -0.391454    -0.645845    -0.216420     0.853469    -0.454478   \n",
            "743    -0.112089     0.415057     0.698798    -0.743043     0.287060   \n",
            "\n",
            "     feature_765  feature_766  feature_767  feature_768  \n",
            "0      -0.279182     1.341309     1.254953     0.499608  \n",
            "1       0.327047    -0.348756     0.064552    -0.316880  \n",
            "2      -0.827626    -0.896938    -0.785516    -0.517605  \n",
            "3       0.495868    -0.139105    -1.067626    -0.462828  \n",
            "4       0.214677    -0.839655    -0.096272    -0.465349  \n",
            "..           ...          ...          ...          ...  \n",
            "739     0.198223    -1.539089    -2.250838     1.507159  \n",
            "740    -0.506142    -0.563696    -0.605379     0.329171  \n",
            "741    -0.255976    -1.048136     0.143833     0.517914  \n",
            "742    -0.309687    -0.432582    -0.840231     0.695195  \n",
            "743    -0.909633    -0.310109    -0.307283     0.354012  \n",
            "\n",
            "[744 rows x 768 columns]}\n"
          ]
        }
      ],
      "source": [
        "print(x_test)"
      ]
    },
    {
      "cell_type": "markdown",
      "metadata": {
        "id": "LCootOQWskcU"
      },
      "source": [
        "**Model Training Function**"
      ]
    },
    {
      "cell_type": "code",
      "execution_count": 15,
      "metadata": {
        "id": "pEw0WQAFmZe8"
      },
      "outputs": [],
      "source": [
        "from sklearn import svm\n",
        "from sklearn import metrics\n",
        "from sklearn.ensemble import RandomForestClassifier\n",
        "\n",
        "def classificationModelsAccuracy(model, x_train, y_train, x_valid, y_valid):\n",
        "  models = ['svm', 'xgboost']\n",
        "  created_model = 0\n",
        "  if 'svm' == model:\n",
        "    created_model = svm.SVC(kernel='linear', class_weight='balanced')\n",
        "    created_model.fit(x_train, y_train)\n",
        "    y_pred = created_model.predict(x_valid)\n",
        "    print('SVM accuracy Score :', metrics.accuracy_score(y_valid, y_pred))\n",
        "  elif 'randomForest' == model:\n",
        "    created_model = RandomForestClassifier(n_estimators=100, random_state=42)\n",
        "    created_model.fit(x_train, y_train)\n",
        "    y_pred = created_model.predict(x_valid)\n",
        "    print('Random Forest accuracy :', metrics.accuracy_score(y_valid, y_pred))\n",
        "  return created_model"
      ]
    },
    {
      "cell_type": "markdown",
      "metadata": {
        "id": "tQXBTnLMspQN"
      },
      "source": [
        "--------------------------------------"
      ]
    },
    {
      "cell_type": "code",
      "execution_count": 7,
      "metadata": {
        "colab": {
          "base_uri": "https://localhost:8080/"
        },
        "id": "yfeft9ohso9p",
        "outputId": "19ee4f74-a5f4-49ed-bfbc-0c801368b821"
      },
      "outputs": [
        {
          "name": "stdout",
          "output_type": "stream",
          "text": [
            "SVM accuracy Score : 0.9613333333333334\n"
          ]
        }
      ],
      "source": [
        "svm = classificationModelsAccuracy('svm', x_train[L1], y_train[L1], x_valid[L1], y_valid[L1])"
      ]
    },
    {
      "cell_type": "code",
      "execution_count": 6,
      "metadata": {
        "colab": {
          "base_uri": "https://localhost:8080/"
        },
        "id": "ihnWC2Ioxfu3",
        "outputId": "d97b5e33-23cb-4aa1-9b48-85cf590e4d84"
      },
      "outputs": [
        {
          "name": "stdout",
          "output_type": "stream",
          "text": [
            "Random Forest accuracy : 0.8533333333333334\n"
          ]
        }
      ],
      "source": [
        "random_forest = classificationModelsAccuracy('randomForest', x_train[L1], y_train[L1], x_valid[L1], y_valid[L1])"
      ]
    },
    {
      "cell_type": "markdown",
      "metadata": {
        "id": "z7aaA1oqy9jP"
      },
      "source": [
        "**Feature Reduction**"
      ]
    },
    {
      "cell_type": "markdown",
      "metadata": {
        "id": "Bwh2pTXDzCL2"
      },
      "source": [
        "Select K-Best"
      ]
    },
    {
      "cell_type": "code",
      "execution_count": 8,
      "metadata": {
        "id": "lNjiG58vzESG"
      },
      "outputs": [],
      "source": [
        "from sklearn.feature_selection import SelectKBest, f_classif\n",
        "\n",
        "def selectKBestFunction(x_train, y_train, x_valid, x_test, k):\n",
        "  selector = SelectKBest(score_func=f_classif, k=k)\n",
        "  x_new_train = selector.fit_transform(x_train, y_train)\n",
        "  x_new_valid = selector.transform(x_valid)\n",
        "  x_new_test = selector.transform(x_test)\n",
        "  return x_new_train, x_new_valid, x_new_test"
      ]
    },
    {
      "cell_type": "markdown",
      "metadata": {
        "id": "RaxAQ7sB6S08"
      },
      "source": [
        "PCA"
      ]
    },
    {
      "cell_type": "code",
      "execution_count": 9,
      "metadata": {
        "id": "kc8FXwXi6UI9"
      },
      "outputs": [],
      "source": [
        "from sklearn.decomposition import PCA\n",
        "from sklearn.preprocessing import StandardScaler\n",
        "\n",
        "def PCAFunction(L, xTrain, xValid, xTest, n):\n",
        "    scaler = StandardScaler()\n",
        "\n",
        "    # Standardize the data\n",
        "    x_train_scaled = pd.DataFrame(scaler.fit_transform(xTrain), columns=xTrain.columns)\n",
        "    x_valid_scaled = pd.DataFrame(scaler.transform(xValid), columns=xValid.columns)\n",
        "    x_test_scaled = pd.DataFrame(scaler.transform(xTest), columns=xTest.columns)\n",
        "\n",
        "    pca = PCA(n_components=n, svd_solver='full')\n",
        "    pca.fit(x_train_scaled)\n",
        "    # Transform the data and convert the result to DataFrames\n",
        "    x_pca_train = pd.DataFrame(pca.transform(x_train_scaled))\n",
        "    x_pca_valid = pd.DataFrame(pca.transform(x_valid_scaled))\n",
        "    x_pca_test = pd.DataFrame(pca.transform(x_test_scaled))\n",
        "\n",
        "    return x_pca_train, x_pca_valid, x_pca_test\n"
      ]
    },
    {
      "cell_type": "markdown",
      "metadata": {
        "id": "ZwXH1NekXCuW"
      },
      "source": [
        "**Hyper Parameter Tuning**"
      ]
    },
    {
      "cell_type": "markdown",
      "metadata": {
        "id": "36uNETMSXH7K"
      },
      "source": [
        "Random Search"
      ]
    },
    {
      "cell_type": "code",
      "execution_count": 10,
      "metadata": {
        "id": "dTnLvABRXLqL"
      },
      "outputs": [],
      "source": [
        "from sklearn.model_selection import RandomizedSearchCV\n",
        "from scipy.stats import uniform, randint"
      ]
    },
    {
      "cell_type": "code",
      "execution_count": 11,
      "metadata": {
        "id": "KaojV4NQg3DN"
      },
      "outputs": [],
      "source": [
        "def randomSearch(model, xTrain, yTrain, L):\n",
        "  param_dist = {\n",
        "    'C': uniform(0.1, 10),          # Continuous distribution for 'C'\n",
        "    'kernel': ['linear', 'rbf'],    # List of choices for 'kernel'\n",
        "    'gamma': uniform(0.001, 1.0)   # Continuous distribution for 'gamma'\n",
        "  }\n",
        "  random_search = RandomizedSearchCV(\n",
        "    estimator=model,\n",
        "    param_distributions=param_dist,\n",
        "    n_iter=5,     # Number of random combinations to try\n",
        "    cv=2,           # Number of cross-validation folds\n",
        "    n_jobs=-1,     # Use all available CPU cores\n",
        "    random_state=42\n",
        "  )\n",
        "\n",
        "  random_search.fit(xTrain, yTrain)\n",
        "  best_params = random_search.best_params_\n",
        "  best_model = random_search.best_estimator_\n",
        "  return best_model"
      ]
    },
    {
      "cell_type": "markdown",
      "metadata": {},
      "source": [
        "**Cross Validation**"
      ]
    },
    {
      "cell_type": "code",
      "execution_count": 12,
      "metadata": {},
      "outputs": [],
      "source": [
        "from sklearn.model_selection import cross_val_score\n",
        "\n",
        "def crossValidationFunction(model, x_train, y_train, k):\n",
        "    scores = cross_val_score(model, x_train, y_train, cv=k)\n",
        "    print(\"Cross-validation scores: \", scores)\n",
        "    print(\"%0.2f accuracy with a standard deviation of %f\" % (scores.mean(), scores.std()))"
      ]
    },
    {
      "cell_type": "markdown",
      "metadata": {
        "id": "pyJ0IBov3U_O"
      },
      "source": [
        "**For Label 1**"
      ]
    },
    {
      "cell_type": "code",
      "execution_count": 13,
      "metadata": {},
      "outputs": [
        {
          "name": "stderr",
          "output_type": "stream",
          "text": [
            "c:\\Users\\Jalitha Kalsara\\AppData\\Local\\Programs\\Python\\Python310\\lib\\site-packages\\seaborn\\_oldcore.py:1498: FutureWarning: is_categorical_dtype is deprecated and will be removed in a future version. Use isinstance(dtype, CategoricalDtype) instead\n",
            "  if pd.api.types.is_categorical_dtype(vector):\n",
            "c:\\Users\\Jalitha Kalsara\\AppData\\Local\\Programs\\Python\\Python310\\lib\\site-packages\\seaborn\\_oldcore.py:1498: FutureWarning: is_categorical_dtype is deprecated and will be removed in a future version. Use isinstance(dtype, CategoricalDtype) instead\n",
            "  if pd.api.types.is_categorical_dtype(vector):\n",
            "c:\\Users\\Jalitha Kalsara\\AppData\\Local\\Programs\\Python\\Python310\\lib\\site-packages\\seaborn\\_oldcore.py:1498: FutureWarning: is_categorical_dtype is deprecated and will be removed in a future version. Use isinstance(dtype, CategoricalDtype) instead\n",
            "  if pd.api.types.is_categorical_dtype(vector):\n"
          ]
        },
        {
          "data": {
            "text/plain": [
              "<Axes: xlabel='label_1', ylabel='count'>"
            ]
          },
          "execution_count": 13,
          "metadata": {},
          "output_type": "execute_result"
        },
        {
          "data": {
            "image/png": "[encoded data removed]",
            "text/plain": [
              "<Figure size 1500x600 with 1 Axes>"
            ]
          },
          "metadata": {},
          "output_type": "display_data"
        }
      ],
      "source": [
        "import matplotlib.pyplot as plt\n",
        "import seaborn as sn\n",
        "\n",
        "plt.figure(figsize=(15,6))\n",
        "sn.countplot(data=y_train, x=L1, color='red')"
      ]
    },
    {
      "cell_type": "code",
      "execution_count": 16,
      "metadata": {},
      "outputs": [
        {
          "name": "stdout",
          "output_type": "stream",
          "text": [
            "SVM accuracy Score : 0.9613333333333334\n"
          ]
        }
      ],
      "source": [
        "# without feature engineering\n",
        "svm = classificationModelsAccuracy('svm', x_train[L1], y_train[L1], x_valid[L1], y_valid[L1])"
      ]
    },
    {
      "cell_type": "code",
      "execution_count": 18,
      "metadata": {},
      "outputs": [
        {
          "name": "stdout",
          "output_type": "stream",
          "text": [
            "(750,)\n",
            "(750,)\n",
            "SVM accuracy Score : 0.9613333333333334\n"
          ]
        }
      ],
      "source": [
        "y_pred_val_label1 = svm.predict(x_valid[L1])\n",
        "print(y_pred_val_label1.shape)\n",
        "print(y_valid[L4].shape)\n",
        "print('SVM accuracy Score :', metrics.accuracy_score(y_valid[L1], y_pred_val_label1))"
      ]
    },
    {
      "cell_type": "code",
      "execution_count": 19,
      "metadata": {},
      "outputs": [
        {
          "name": "stdout",
          "output_type": "stream",
          "text": [
            "CSV file 'layer_9_label_1.csv' has been created.\n"
          ]
        }
      ],
      "source": [
        "import csv\n",
        "\n",
        "array = y_pred_val_label1\n",
        "\n",
        "# Define the number of rows (assuming all arrays have the same length)\n",
        "num_rows = len(y_pred_val_label1)\n",
        "\n",
        "# Create and open a CSV file for writing\n",
        "with open('layer_9_label_1.csv', mode='w', newline='') as file:\n",
        "    writer = csv.writer(file)\n",
        "    \n",
        "    # Write data rows\n",
        "    for i in range(num_rows):\n",
        "        row = [array[i]]\n",
        "        writer.writerow(row)\n",
        "\n",
        "print(\"CSV file 'layer_9_label_1.csv' has been created.\")"
      ]
    },
    {
      "cell_type": "markdown",
      "metadata": {},
      "source": [
        "Applying PCA"
      ]
    },
    {
      "cell_type": "code",
      "execution_count": 59,
      "metadata": {},
      "outputs": [],
      "source": [
        "# Applying PCA\n",
        "x_pca_train1, x_pca_valid1, x_pca_test1 = PCAFunction(L1, x_train[L1], x_valid[L1], x_test[L1], 0.95)"
      ]
    },
    {
      "cell_type": "code",
      "execution_count": 60,
      "metadata": {},
      "outputs": [
        {
          "data": {
            "text/plain": [
              "(744, 310)"
            ]
          },
          "execution_count": 60,
          "metadata": {},
          "output_type": "execute_result"
        }
      ],
      "source": [
        "x_pca_train1.shape\n",
        "x_pca_valid1.shape\n",
        "x_pca_test1.shape"
      ]
    },
    {
      "cell_type": "code",
      "execution_count": 61,
      "metadata": {
        "id": "eoWYvmSqncjD"
      },
      "outputs": [],
      "source": [
        "from sklearn.svm import SVC\n",
        "\n",
        "svm_classifier = SVC()\n",
        "tuned_model1 = randomSearch(svm_classifier, x_pca_train1, y_train[L1], L1)"
      ]
    },
    {
      "cell_type": "code",
      "execution_count": 62,
      "metadata": {},
      "outputs": [
        {
          "name": "stdout",
          "output_type": "stream",
          "text": [
            "(750,)\n",
            "(750,)\n",
            "After Random Search using SVM accuracy Score : 0.9573333333333334\n"
          ]
        }
      ],
      "source": [
        "\n",
        "y_pred1 = tuned_model1.predict(x_pca_valid1)\n",
        "print(y_pred1.shape)\n",
        "print(y_valid[L1].shape)\n",
        "print('After Random Search using SVM accuracy Score :', metrics.accuracy_score(y_valid[L1], y_pred1))"
      ]
    },
    {
      "cell_type": "markdown",
      "metadata": {},
      "source": [
        "Applying K-Best"
      ]
    },
    {
      "cell_type": "code",
      "execution_count": 88,
      "metadata": {},
      "outputs": [],
      "source": [
        "# Applying selectKBest\n",
        "x_training_label1, x_valid_label1, x_test_label1 = selectKBestFunction(x_train[L1], y_train[L1], x_valid[L1],x_test[L1], 500)"
      ]
    },
    {
      "cell_type": "code",
      "execution_count": 64,
      "metadata": {},
      "outputs": [],
      "source": [
        "from sklearn.svm import SVC\n",
        "\n",
        "svm_classifier = SVC()\n",
        "tuned_model1_2 = randomSearch(svm_classifier, x_training_label1, y_train[L1], L1)"
      ]
    },
    {
      "cell_type": "code",
      "execution_count": 65,
      "metadata": {},
      "outputs": [
        {
          "name": "stdout",
          "output_type": "stream",
          "text": [
            "(750,)\n",
            "(750,)\n",
            "After Random Search using SVM accuracy Score : 0.9613333333333334\n"
          ]
        }
      ],
      "source": [
        "y_pred = tuned_model1_2.predict(x_valid_label1)\n",
        "print(y_pred.shape)\n",
        "print(y_valid[L1].shape)\n",
        "print('After Random Search using SVM accuracy Score :', metrics.accuracy_score(y_valid[L1], y_pred))"
      ]
    },
    {
      "cell_type": "code",
      "execution_count": 104,
      "metadata": {},
      "outputs": [
        {
          "name": "stdout",
          "output_type": "stream",
          "text": [
            "Cross-validation scores: [0.95003681 0.94772273 0.95097833]\n",
            "0.95 accuracy with a standard deviation of 0.00\n"
          ]
        }
      ],
      "source": [
        "# cross validation\n",
        "crossValidationFunction(tuned_model1_2, x_training_label1, y_train[L1], 3)"
      ]
    },
    {
      "cell_type": "markdown",
      "metadata": {},
      "source": [
        "**For Label 2**"
      ]
    },
    {
      "cell_type": "code",
      "execution_count": 20,
      "metadata": {},
      "outputs": [
        {
          "name": "stderr",
          "output_type": "stream",
          "text": [
            "c:\\Users\\Jalitha Kalsara\\AppData\\Local\\Programs\\Python\\Python310\\lib\\site-packages\\seaborn\\_oldcore.py:1498: FutureWarning: is_categorical_dtype is deprecated and will be removed in a future version. Use isinstance(dtype, CategoricalDtype) instead\n",
            "  if pd.api.types.is_categorical_dtype(vector):\n",
            "c:\\Users\\Jalitha Kalsara\\AppData\\Local\\Programs\\Python\\Python310\\lib\\site-packages\\seaborn\\_oldcore.py:1498: FutureWarning: is_categorical_dtype is deprecated and will be removed in a future version. Use isinstance(dtype, CategoricalDtype) instead\n",
            "  if pd.api.types.is_categorical_dtype(vector):\n",
            "c:\\Users\\Jalitha Kalsara\\AppData\\Local\\Programs\\Python\\Python310\\lib\\site-packages\\seaborn\\_oldcore.py:1498: FutureWarning: is_categorical_dtype is deprecated and will be removed in a future version. Use isinstance(dtype, CategoricalDtype) instead\n",
            "  if pd.api.types.is_categorical_dtype(vector):\n"
          ]
        },
        {
          "data": {
            "text/plain": [
              "<Axes: xlabel='label_2', ylabel='count'>"
            ]
          },
          "execution_count": 20,
          "metadata": {},
          "output_type": "execute_result"
        },
        {
          "data": {
            "image/png": "[encoded data removed]",
            "text/plain": [
              "<Figure size 1500x600 with 1 Axes>"
            ]
          },
          "metadata": {},
          "output_type": "display_data"
        }
      ],
      "source": [
        "import matplotlib.pyplot as plt\n",
        "import seaborn as sn\n",
        "\n",
        "plt.figure(figsize=(15,6))\n",
        "sn.countplot(data=y_train, x=L2, color='blue')"
      ]
    },
    {
      "cell_type": "code",
      "execution_count": 27,
      "metadata": {},
      "outputs": [
        {
          "name": "stdout",
          "output_type": "stream",
          "text": [
            "SVM accuracy Score : 0.8206521739130435\n"
          ]
        }
      ],
      "source": [
        "# Without feature engineering\n",
        "svm = classificationModelsAccuracy('svm', x_train[L2], y_train[L2], x_valid[L2], y_valid[L2])"
      ]
    },
    {
      "cell_type": "markdown",
      "metadata": {},
      "source": [
        "Applying PCA"
      ]
    },
    {
      "cell_type": "code",
      "execution_count": 129,
      "metadata": {},
      "outputs": [],
      "source": [
        "# Applying PCA\n",
        "x_pca_train2, x_pca_valid2, x_pca_test2 = PCAFunction(L2, x_train[L2], x_valid[L2], x_test[L2], 0.97)"
      ]
    },
    {
      "cell_type": "code",
      "execution_count": 130,
      "metadata": {},
      "outputs": [
        {
          "data": {
            "text/plain": [
              "(28040, 401)"
            ]
          },
          "execution_count": 130,
          "metadata": {},
          "output_type": "execute_result"
        }
      ],
      "source": [
        "x_pca_train2.shape\n"
      ]
    },
    {
      "cell_type": "code",
      "execution_count": 131,
      "metadata": {},
      "outputs": [],
      "source": [
        "from sklearn.svm import SVC\n",
        "\n",
        "svm_classifier = SVC(class_weight='balanced')\n",
        "tuned_model2 = randomSearch(svm_classifier, x_pca_train2, y_train[L2], L2)"
      ]
    },
    {
      "cell_type": "code",
      "execution_count": 123,
      "metadata": {},
      "outputs": [
        {
          "name": "stdout",
          "output_type": "stream",
          "text": [
            "(736,)\n",
            "(736,)\n",
            "After Random Search using SVM accuracy Score : 0.7635869565217391\n"
          ]
        }
      ],
      "source": [
        "y_pred = tuned_model2.predict(x_pca_valid2)\n",
        "print(y_pred.shape)\n",
        "print(y_valid[L2].shape)\n",
        "print('After Random Search using SVM accuracy Score :', metrics.accuracy_score(y_valid[L2], y_pred))"
      ]
    },
    {
      "cell_type": "markdown",
      "metadata": {},
      "source": [
        "Applying K-Best"
      ]
    },
    {
      "cell_type": "code",
      "execution_count": 21,
      "metadata": {},
      "outputs": [],
      "source": [
        "x_training_label2, x_valid_label2, x_test_label2 = selectKBestFunction(x_train[L2], y_train[L2], x_valid[L2], x_test[L2], 500)"
      ]
    },
    {
      "cell_type": "code",
      "execution_count": 22,
      "metadata": {},
      "outputs": [],
      "source": [
        "from sklearn.svm import SVC\n",
        "\n",
        "svm_classifier = SVC(class_weight='balanced')\n",
        "tuned_model2_2 = randomSearch(svm_classifier, x_training_label2, y_train[L2], L2)"
      ]
    },
    {
      "cell_type": "code",
      "execution_count": 23,
      "metadata": {},
      "outputs": [
        {
          "name": "stdout",
          "output_type": "stream",
          "text": [
            "(736,)\n",
            "(736,)\n",
            "After Random Search using SVM accuracy Score : 0.7663043478260869\n"
          ]
        }
      ],
      "source": [
        "y_pred_val_label2 = tuned_model2_2.predict(x_valid_label2)\n",
        "print(y_pred_val_label2.shape)\n",
        "print(y_valid[L2].shape)\n",
        "print('After Random Search using SVM accuracy Score :', metrics.accuracy_score(y_valid[L2], y_pred_val_label2))"
      ]
    },
    {
      "cell_type": "code",
      "execution_count": 24,
      "metadata": {},
      "outputs": [
        {
          "name": "stdout",
          "output_type": "stream",
          "text": [
            "CSV file 'layer_9_label_2.csv' has been created.\n"
          ]
        }
      ],
      "source": [
        "import csv\n",
        "\n",
        "array = y_pred_val_label2\n",
        "\n",
        "# Define the number of rows (assuming all arrays have the same length)\n",
        "num_rows = len(y_pred_val_label2)\n",
        "\n",
        "# Create and open a CSV file for writing\n",
        "with open('layer_9_label_2.csv', mode='w', newline='') as file:\n",
        "    writer = csv.writer(file)\n",
        "    \n",
        "    # Write data rows\n",
        "    for i in range(num_rows):\n",
        "        row = [array[i]]\n",
        "        writer.writerow(row)\n",
        "\n",
        "print(\"CSV file 'layer_9_label_2.csv' has been created.\")"
      ]
    },
    {
      "cell_type": "markdown",
      "metadata": {},
      "source": [
        "**For Label 3**"
      ]
    },
    {
      "cell_type": "code",
      "execution_count": 25,
      "metadata": {},
      "outputs": [
        {
          "name": "stderr",
          "output_type": "stream",
          "text": [
            "c:\\Users\\Jalitha Kalsara\\AppData\\Local\\Programs\\Python\\Python310\\lib\\site-packages\\seaborn\\_oldcore.py:1498: FutureWarning: is_categorical_dtype is deprecated and will be removed in a future version. Use isinstance(dtype, CategoricalDtype) instead\n",
            "  if pd.api.types.is_categorical_dtype(vector):\n",
            "c:\\Users\\Jalitha Kalsara\\AppData\\Local\\Programs\\Python\\Python310\\lib\\site-packages\\seaborn\\_oldcore.py:1498: FutureWarning: is_categorical_dtype is deprecated and will be removed in a future version. Use isinstance(dtype, CategoricalDtype) instead\n",
            "  if pd.api.types.is_categorical_dtype(vector):\n",
            "c:\\Users\\Jalitha Kalsara\\AppData\\Local\\Programs\\Python\\Python310\\lib\\site-packages\\seaborn\\_oldcore.py:1498: FutureWarning: is_categorical_dtype is deprecated and will be removed in a future version. Use isinstance(dtype, CategoricalDtype) instead\n",
            "  if pd.api.types.is_categorical_dtype(vector):\n"
          ]
        },
        {
          "data": {
            "text/plain": [
              "<Axes: xlabel='label_3', ylabel='count'>"
            ]
          },
          "execution_count": 25,
          "metadata": {},
          "output_type": "execute_result"
        },
        {
          "data": {
            "image/png": "[encoded data removed]",
            "text/plain": [
              "<Figure size 1500x600 with 1 Axes>"
            ]
          },
          "metadata": {},
          "output_type": "display_data"
        }
      ],
      "source": [
        "import matplotlib.pyplot as plt\n",
        "import seaborn as sn\n",
        "\n",
        "plt.figure(figsize=(15,6))\n",
        "sn.countplot(data=y_train, x=L3, color='green')"
      ]
    },
    {
      "cell_type": "code",
      "execution_count": 33,
      "metadata": {},
      "outputs": [
        {
          "name": "stdout",
          "output_type": "stream",
          "text": [
            "SVM accuracy Score : 0.9933333333333333\n"
          ]
        }
      ],
      "source": [
        "svm = classificationModelsAccuracy('svm', x_train[L3], y_train[L3], x_valid[L3], y_valid[L3])"
      ]
    },
    {
      "cell_type": "markdown",
      "metadata": {},
      "source": [
        "Applying PCA"
      ]
    },
    {
      "cell_type": "code",
      "execution_count": 26,
      "metadata": {},
      "outputs": [],
      "source": [
        "# Applying PCA\n",
        "x_pca_train3, x_pca_valid3, x_pca_test3 = PCAFunction(L3, x_train[L3], x_valid[L3], x_test[L3], 0.95)"
      ]
    },
    {
      "cell_type": "code",
      "execution_count": 27,
      "metadata": {},
      "outputs": [
        {
          "data": {
            "text/plain": [
              "(28520, 310)"
            ]
          },
          "execution_count": 27,
          "metadata": {},
          "output_type": "execute_result"
        }
      ],
      "source": [
        "x_pca_train3.shape"
      ]
    },
    {
      "cell_type": "code",
      "execution_count": 28,
      "metadata": {},
      "outputs": [],
      "source": [
        "from sklearn.svm import SVC\n",
        "\n",
        "svm_classifier = SVC()\n",
        "tuned_model3 = randomSearch(svm_classifier, x_pca_train3, y_train[L3], L3)"
      ]
    },
    {
      "cell_type": "code",
      "execution_count": 29,
      "metadata": {},
      "outputs": [
        {
          "name": "stdout",
          "output_type": "stream",
          "text": [
            "(750,)\n",
            "(750,)\n",
            "After Random Search using SVM accuracy Score : 0.9893333333333333\n"
          ]
        }
      ],
      "source": [
        "y_pred_val_label3 = tuned_model3.predict(x_pca_valid3)\n",
        "print(y_pred_val_label3.shape)\n",
        "print(y_valid[L3].shape)\n",
        "print('After Random Search using SVM accuracy Score :', metrics.accuracy_score(y_valid[L3], y_pred_val_label3))"
      ]
    },
    {
      "cell_type": "code",
      "execution_count": 30,
      "metadata": {},
      "outputs": [
        {
          "name": "stdout",
          "output_type": "stream",
          "text": [
            "CSV file 'layer_9_label_3.csv' has been created.\n"
          ]
        }
      ],
      "source": [
        "import csv\n",
        "\n",
        "array = y_pred_val_label3\n",
        "\n",
        "# Define the number of rows (assuming all arrays have the same length)\n",
        "num_rows = len(y_pred_val_label3)\n",
        "\n",
        "# Create and open a CSV file for writing\n",
        "with open('layer_9_label_3.csv', mode='w', newline='') as file:\n",
        "    writer = csv.writer(file)\n",
        "    \n",
        "    # Write data rows\n",
        "    for i in range(num_rows):\n",
        "        row = [array[i]]\n",
        "        writer.writerow(row)\n",
        "\n",
        "print(\"CSV file 'layer_9_label_3.csv' has been created.\")"
      ]
    },
    {
      "cell_type": "code",
      "execution_count": 132,
      "metadata": {},
      "outputs": [
        {
          "name": "stdout",
          "output_type": "stream",
          "text": [
            "Cross-validation scores:  [0.97685916 0.98895551 0.9647591 ]\n",
            "0.98 accuracy with a standard deviation of 0.009878\n"
          ]
        }
      ],
      "source": [
        "#cross validation\n",
        "crossValidationFunction(tuned_model3, x_pca_train3, y_train[L3], 3)"
      ]
    },
    {
      "cell_type": "markdown",
      "metadata": {},
      "source": [
        "Applying K-Best"
      ]
    },
    {
      "cell_type": "code",
      "execution_count": 94,
      "metadata": {},
      "outputs": [],
      "source": [
        "x_training_label3, x_valid_label3, x_test_label3 = selectKBestFunction(x_train[L3], y_train[L3], x_valid[L3], x_test[L3], 500)"
      ]
    },
    {
      "cell_type": "code",
      "execution_count": 78,
      "metadata": {},
      "outputs": [],
      "source": [
        "from sklearn.svm import SVC\n",
        "\n",
        "svm_classifier = SVC(class_weight='balanced')\n",
        "tuned_model3_2 = randomSearch(svm_classifier, x_training_label3, y_train[L3], L3)"
      ]
    },
    {
      "cell_type": "code",
      "execution_count": 79,
      "metadata": {},
      "outputs": [
        {
          "name": "stdout",
          "output_type": "stream",
          "text": [
            "(750,)\n",
            "(750,)\n",
            "After Random Search using SVM accuracy Score : 0.996\n"
          ]
        }
      ],
      "source": [
        "y_pred = tuned_model3_2.predict(x_valid_label3)\n",
        "print(y_pred.shape)\n",
        "print(y_valid[L3].shape)\n",
        "print('After Random Search using SVM accuracy Score :', metrics.accuracy_score(y_valid[L3], y_pred))"
      ]
    },
    {
      "cell_type": "markdown",
      "metadata": {},
      "source": [
        "**For Label 4**"
      ]
    },
    {
      "cell_type": "code",
      "execution_count": 38,
      "metadata": {},
      "outputs": [
        {
          "name": "stderr",
          "output_type": "stream",
          "text": [
            "c:\\Users\\Jalitha Kalsara\\AppData\\Local\\Programs\\Python\\Python310\\lib\\site-packages\\seaborn\\_oldcore.py:1498: FutureWarning: is_categorical_dtype is deprecated and will be removed in a future version. Use isinstance(dtype, CategoricalDtype) instead\n",
            "  if pd.api.types.is_categorical_dtype(vector):\n",
            "c:\\Users\\Jalitha Kalsara\\AppData\\Local\\Programs\\Python\\Python310\\lib\\site-packages\\seaborn\\_oldcore.py:1498: FutureWarning: is_categorical_dtype is deprecated and will be removed in a future version. Use isinstance(dtype, CategoricalDtype) instead\n",
            "  if pd.api.types.is_categorical_dtype(vector):\n",
            "c:\\Users\\Jalitha Kalsara\\AppData\\Local\\Programs\\Python\\Python310\\lib\\site-packages\\seaborn\\_oldcore.py:1498: FutureWarning: is_categorical_dtype is deprecated and will be removed in a future version. Use isinstance(dtype, CategoricalDtype) instead\n",
            "  if pd.api.types.is_categorical_dtype(vector):\n"
          ]
        },
        {
          "data": {
            "text/plain": [
              "<Axes: xlabel='label_4', ylabel='count'>"
            ]
          },
          "execution_count": 38,
          "metadata": {},
          "output_type": "execute_result"
        },
        {
          "data": {
            "image/png": "[encoded data removed]",
            "text/plain": [
              "<Figure size 1500x600 with 1 Axes>"
            ]
          },
          "metadata": {},
          "output_type": "display_data"
        }
      ],
      "source": [
        "import matplotlib.pyplot as plt\n",
        "import seaborn as sn\n",
        "\n",
        "plt.figure(figsize=(15,6))\n",
        "sn.countplot(data=y_train, x=L4, color='orange')"
      ]
    },
    {
      "cell_type": "code",
      "execution_count": 41,
      "metadata": {},
      "outputs": [
        {
          "name": "stdout",
          "output_type": "stream",
          "text": [
            "SVM accuracy Score : 0.9426666666666667\n"
          ]
        }
      ],
      "source": [
        "svm = classificationModelsAccuracy('svm', x_train[L4], y_train[L4], x_valid[L4], y_valid[L4])"
      ]
    },
    {
      "cell_type": "markdown",
      "metadata": {},
      "source": [
        "Applying PCA"
      ]
    },
    {
      "cell_type": "code",
      "execution_count": 31,
      "metadata": {},
      "outputs": [],
      "source": [
        "# Applying PCA\n",
        "x_pca_train4, x_pca_valid4, x_pca_test4 = PCAFunction(L4, x_train[L4], x_valid[L4], x_test[L4], 0.95)"
      ]
    },
    {
      "cell_type": "code",
      "execution_count": 32,
      "metadata": {},
      "outputs": [
        {
          "data": {
            "text/plain": [
              "(28520, 310)"
            ]
          },
          "execution_count": 32,
          "metadata": {},
          "output_type": "execute_result"
        }
      ],
      "source": [
        "x_pca_train4.shape"
      ]
    },
    {
      "cell_type": "code",
      "execution_count": 33,
      "metadata": {},
      "outputs": [],
      "source": [
        "from sklearn.svm import SVC\n",
        "\n",
        "svm_classifier = SVC()\n",
        "tuned_model4 = randomSearch(svm_classifier, x_pca_train4, y_train[L4], L4)"
      ]
    },
    {
      "cell_type": "code",
      "execution_count": 34,
      "metadata": {},
      "outputs": [
        {
          "name": "stdout",
          "output_type": "stream",
          "text": [
            "(750,)\n",
            "(750,)\n",
            "After Random Search using SVM accuracy Score : 0.9106666666666666\n"
          ]
        }
      ],
      "source": [
        "y_pred_val_label4 = tuned_model4.predict(x_pca_valid4)\n",
        "print(y_pred_val_label4.shape)\n",
        "print(y_valid[L4].shape)\n",
        "print('After Random Search using SVM accuracy Score :', metrics.accuracy_score(y_valid[L4], y_pred_val_label4))"
      ]
    },
    {
      "cell_type": "code",
      "execution_count": 35,
      "metadata": {},
      "outputs": [
        {
          "name": "stdout",
          "output_type": "stream",
          "text": [
            "CSV file 'layer_9_label_4.csv' has been created.\n"
          ]
        }
      ],
      "source": [
        "import csv\n",
        "\n",
        "array = y_pred_val_label4\n",
        "\n",
        "# Define the number of rows (assuming all arrays have the same length)\n",
        "num_rows = len(y_pred_val_label4)\n",
        "\n",
        "# Create and open a CSV file for writing\n",
        "with open('layer_9_label_4.csv', mode='w', newline='') as file:\n",
        "    writer = csv.writer(file)\n",
        "    \n",
        "    # Write data rows\n",
        "    for i in range(num_rows):\n",
        "        row = [array[i]]\n",
        "        writer.writerow(row)\n",
        "\n",
        "print(\"CSV file 'layer_9_label_4.csv' has been created.\")"
      ]
    },
    {
      "cell_type": "code",
      "execution_count": 133,
      "metadata": {},
      "outputs": [
        {
          "name": "stdout",
          "output_type": "stream",
          "text": [
            "Cross-validation scores:  [0.90312401 0.90428106 0.88985904]\n",
            "0.90 accuracy with a standard deviation of 0.006543\n"
          ]
        }
      ],
      "source": [
        "#cross validation\n",
        "crossValidationFunction(tuned_model4, x_pca_train4, y_train[L4], 3)"
      ]
    },
    {
      "cell_type": "markdown",
      "metadata": {},
      "source": [
        "Applying K-Best"
      ]
    },
    {
      "cell_type": "code",
      "execution_count": 95,
      "metadata": {},
      "outputs": [],
      "source": [
        "x_training_label4, x_valid_label4, x_test_label4 = selectKBestFunction(x_train[L4], y_train[L4], x_valid[L4],x_test[L4], 500)"
      ]
    },
    {
      "cell_type": "code",
      "execution_count": 85,
      "metadata": {},
      "outputs": [],
      "source": [
        "from sklearn.svm import SVC\n",
        "\n",
        "svm_classifier = SVC(class_weight='balanced')\n",
        "tuned_model4_2 = randomSearch(svm_classifier, x_training_label4, y_train[L4], L4)"
      ]
    },
    {
      "cell_type": "code",
      "execution_count": 86,
      "metadata": {},
      "outputs": [
        {
          "name": "stdout",
          "output_type": "stream",
          "text": [
            "(750,)\n",
            "(750,)\n",
            "After Random Search using SVM accuracy Score : 0.9666666666666667\n"
          ]
        }
      ],
      "source": [
        "y_pred = tuned_model4_2.predict(x_valid_label4)\n",
        "print(y_pred.shape)\n",
        "print(y_valid[L4].shape)\n",
        "print('After Random Search using SVM accuracy Score :', metrics.accuracy_score(y_valid[L4], y_pred))"
      ]
    },
    {
      "cell_type": "markdown",
      "metadata": {},
      "source": [
        "**Predicting the test data**"
      ]
    },
    {
      "cell_type": "markdown",
      "metadata": {},
      "source": [
        "Label 1"
      ]
    },
    {
      "cell_type": "code",
      "execution_count": 89,
      "metadata": {},
      "outputs": [],
      "source": [
        "y_pred_label1 = tuned_model1_2.predict(x_test_label1)"
      ]
    },
    {
      "cell_type": "code",
      "execution_count": 101,
      "metadata": {},
      "outputs": [
        {
          "data": {
            "text/plain": [
              "numpy.ndarray"
            ]
          },
          "execution_count": 101,
          "metadata": {},
          "output_type": "execute_result"
        }
      ],
      "source": [
        "type(y_pred_label1)"
      ]
    },
    {
      "cell_type": "markdown",
      "metadata": {},
      "source": [
        "Label 2"
      ]
    },
    {
      "cell_type": "code",
      "execution_count": 96,
      "metadata": {},
      "outputs": [],
      "source": [
        "y_pred_label2 = tuned_model2.predict(x_pca_test2)"
      ]
    },
    {
      "cell_type": "markdown",
      "metadata": {},
      "source": [
        "Label 3"
      ]
    },
    {
      "cell_type": "code",
      "execution_count": 99,
      "metadata": {},
      "outputs": [],
      "source": [
        "y_pred_label3 = tuned_model3.predict(x_pca_test3)"
      ]
    },
    {
      "cell_type": "markdown",
      "metadata": {},
      "source": [
        "Label 4"
      ]
    },
    {
      "cell_type": "code",
      "execution_count": 100,
      "metadata": {},
      "outputs": [],
      "source": [
        "y_pred_label4 = tuned_model4.predict(x_pca_test4)"
      ]
    },
    {
      "cell_type": "markdown",
      "metadata": {},
      "source": [
        "Creating CSV file"
      ]
    },
    {
      "cell_type": "code",
      "execution_count": 102,
      "metadata": {},
      "outputs": [
        {
          "name": "stdout",
          "output_type": "stream",
          "text": [
            "CSV file 'output.csv' has been created.\n"
          ]
        }
      ],
      "source": [
        "import csv\n",
        "import numpy as np\n",
        "\n",
        "# Create your NumPy arrays (replace these with your actual data)\n",
        "array1 = y_pred_label1\n",
        "array2 = y_pred_label2\n",
        "array3 = y_pred_label3\n",
        "array4 = y_pred_label4\n",
        "\n",
        "# Define the number of rows (assuming all arrays have the same length)\n",
        "num_rows = len(array1)\n",
        "\n",
        "# Create and open a CSV file for writing\n",
        "with open('output.csv', mode='w', newline='') as file:\n",
        "    writer = csv.writer(file)\n",
        "    \n",
        "    # Write the header row\n",
        "    header = [\"ID\", \"label_1\", \"label_2\", \"label_3\", \"label_4\"]\n",
        "    writer.writerow(header)\n",
        "    \n",
        "    # Write data rows\n",
        "    for i in range(num_rows):\n",
        "        row = [i+1, array1[i], array2[i], array3[i], array4[i]]\n",
        "        writer.writerow(row)\n",
        "\n",
        "print(\"CSV file 'output.csv' has been created.\")\n"
      ]
    }
  ],
  "metadata": {
    "colab": {
      "provenance": []
    },
    "kernelspec": {
      "display_name": "Python 3",
      "name": "python3"
    },
    "language_info": {
      "codemirror_mode": {
        "name": "ipython",
        "version": 3
      },
      "file_extension": ".py",
      "mimetype": "text/x-python",
      "name": "python",
      "nbconvert_exporter": "python",
      "pygments_lexer": "ipython3",
      "version": "3.10.11"
    }
  },
  "nbformat": 4,
  "nbformat_minor": 0
}
